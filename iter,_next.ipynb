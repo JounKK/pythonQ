{
  "nbformat": 4,
  "nbformat_minor": 0,
  "metadata": {
    "colab": {
      "provenance": [],
      "authorship_tag": "ABX9TyMiWZJ2Z703KVOUQxqbOJv/",
      "include_colab_link": true
    },
    "kernelspec": {
      "name": "python3",
      "display_name": "Python 3"
    },
    "language_info": {
      "name": "python"
    }
  },
  "cells": [
    {
      "cell_type": "markdown",
      "metadata": {
        "id": "view-in-github",
        "colab_type": "text"
      },
      "source": [
        "<a href=\"https://colab.research.google.com/github/JounKK/pythonQ/blob/main/iter%2C_next.ipynb\" target=\"_parent\"><img src=\"https://colab.research.google.com/assets/colab-badge.svg\" alt=\"Open In Colab\"/></a>"
      ]
    },
    {
      "cell_type": "markdown",
      "source": [
        "# 파이썬 내장함수 iter, next\n",
        "- 참고\n",
        "    * 이터레이션: https://wikidocs.net/134909\n",
        "    * 객체 : https://wikidocs.net/20457#:~:text=%EA%B0%9D%EC%B2%B4%EB%8A%94%20%EC%96%B4%EB%96%A0%ED%95%9C%20%EC%86%8D%EC%84%B1%EA%B0%92,%EC%99%80%20%ED%96%89%EB%8F%99%EC%9D%84%20%EA%B0%80%EC%A7%80%EA%B3%A0%20%EC%9E%88%EC%8A%B5%EB%8B%88%EB%8B%A4.\n",
        "    * 코딩도장 iter,next 함수사용 : https://dojang.io/mod/page/view.php?id=2408"
      ],
      "metadata": {
        "id": "vU75OS2OVf72"
      }
    },
    {
      "cell_type": "markdown",
      "source": [
        "## iter\n",
        "* 객체의 __ iter __ 메서드 호출\n",
        "* 순회 가능한(Iterable) 객체를 받아서 Iterator로 반환\n",
        "* 순회(반복) 가능한 객체란, 말 그대로 반복할 수 있는 객체\n",
        "    * 예: 문자열, 리스트, 딕셔너리, 세트\n",
        "    * 요소가 여러 개 들어있고, 한 번에 하나씩 꺼낼 수 있는 객체\n",
        "    * dir에서 __iter __ 메서드가 있는 객체"
      ],
      "metadata": {
        "id": "5FtmyaZwTiyG"
      }
    },
    {
      "cell_type": "code",
      "source": [
        "s = \"HELLOWORLD\"\n",
        "it = s.__iter__() # str_iteratior 객체 변경, next 호출 가능\n",
        "print(it)\n",
        "print(it.__next__()) #\n",
        "print(next(it))\n",
        "\n",
        "it1 = iter(\"HELLOWORLD\")\n",
        "print(it1)\n",
        "print(next(it1))"
      ],
      "metadata": {
        "colab": {
          "base_uri": "https://localhost:8080/"
        },
        "id": "NFYirwAhW2n9",
        "outputId": "5014bebc-a6cd-46bf-a466-a6287788eaf3"
      },
      "execution_count": 15,
      "outputs": [
        {
          "output_type": "stream",
          "name": "stdout",
          "text": [
            "<str_iterator object at 0x7ca7130ee320>\n",
            "H\n",
            "E\n",
            "<str_iterator object at 0x7ca746266530>\n",
            "H\n"
          ]
        }
      ]
    },
    {
      "cell_type": "code",
      "execution_count": 17,
      "metadata": {
        "colab": {
          "base_uri": "https://localhost:8080/",
          "height": 287
        },
        "id": "VHF6KVllTf_k",
        "outputId": "d8506f1a-5a03-4530-c08a-770edeb146e2"
      },
      "outputs": [
        {
          "output_type": "stream",
          "name": "stdout",
          "text": [
            "<range_iterator object at 0x7ca712fea970>\n",
            "0\n",
            "1\n",
            "2\n"
          ]
        },
        {
          "output_type": "error",
          "ename": "StopIteration",
          "evalue": "ignored",
          "traceback": [
            "\u001b[0;31m---------------------------------------------------------------------------\u001b[0m",
            "\u001b[0;31mStopIteration\u001b[0m                             Traceback (most recent call last)",
            "\u001b[0;32m<ipython-input-17-614706737f51>\u001b[0m in \u001b[0;36m<cell line: 7>\u001b[0;34m()\u001b[0m\n\u001b[1;32m      5\u001b[0m \u001b[0mprint\u001b[0m\u001b[0;34m(\u001b[0m\u001b[0mnext\u001b[0m\u001b[0;34m(\u001b[0m\u001b[0mia\u001b[0m\u001b[0;34m)\u001b[0m\u001b[0;34m)\u001b[0m\u001b[0;34m\u001b[0m\u001b[0;34m\u001b[0m\u001b[0m\n\u001b[1;32m      6\u001b[0m \u001b[0mprint\u001b[0m\u001b[0;34m(\u001b[0m\u001b[0mnext\u001b[0m\u001b[0;34m(\u001b[0m\u001b[0mia\u001b[0m\u001b[0;34m)\u001b[0m\u001b[0;34m)\u001b[0m\u001b[0;34m\u001b[0m\u001b[0;34m\u001b[0m\u001b[0m\n\u001b[0;32m----> 7\u001b[0;31m \u001b[0mprint\u001b[0m\u001b[0;34m(\u001b[0m\u001b[0mnext\u001b[0m\u001b[0;34m(\u001b[0m\u001b[0mia\u001b[0m\u001b[0;34m)\u001b[0m\u001b[0;34m)\u001b[0m\u001b[0;34m\u001b[0m\u001b[0;34m\u001b[0m\u001b[0m\n\u001b[0m",
            "\u001b[0;31mStopIteration\u001b[0m: "
          ]
        }
      ],
      "source": [
        "a = range(3) # 0 ~ 2\n",
        "ia = iter(a)\n",
        "print(ia)\n",
        "print(ia.__next__())\n",
        "print(next(ia))\n",
        "print(next(ia))\n",
        "print(next(ia)) # StopIteration"
      ]
    },
    {
      "cell_type": "markdown",
      "source": [
        "* callable(호출가능한 객체) : 클래스 인스턴스, 함수, 메서드 등의 객체\n",
        "    * 호출한다 : 사용하거나 실행 가능, 해당 함수나 메서드의 코드 블록이 실행되는 것을 의미\n",
        "    * __ call __ 메서드가 있는 클래스나 인스턴스\n",
        "    *"
      ],
      "metadata": {
        "id": "KjyaF7cccxxR"
      }
    },
    {
      "cell_type": "code",
      "source": [
        "print(\"프린트 함수를 호출하는 거야!\")\n",
        "# print 함수가 호출되어 문자열이 출력되는 것"
      ],
      "metadata": {
        "colab": {
          "base_uri": "https://localhost:8080/"
        },
        "id": "icQ1SM4rdgMQ",
        "outputId": "78cb1267-982f-488f-c92c-f23dd7e4bff3"
      },
      "execution_count": 23,
      "outputs": [
        {
          "output_type": "stream",
          "name": "stdout",
          "text": [
            "프린트 함수를 호출하는 거야!\n"
          ]
        }
      ]
    },
    {
      "cell_type": "code",
      "source": [
        "import math\n",
        "\n",
        "result = math.sqrt(25) # math 모듈의 sqrt함수 호출\n",
        "print(result)"
      ],
      "metadata": {
        "colab": {
          "base_uri": "https://localhost:8080/"
        },
        "id": "SQkRkt93dmnR",
        "outputId": "80f36576-a61c-4738-9f0d-c9eb645774ab"
      },
      "execution_count": 24,
      "outputs": [
        {
          "output_type": "stream",
          "name": "stdout",
          "text": [
            "5.0\n"
          ]
        }
      ]
    },
    {
      "cell_type": "code",
      "source": [
        "class Dog:\n",
        "    def bark(self):\n",
        "        print(\"Woof!\")\n",
        "\n",
        "my_dog = Dog()  # 클래스 호출을 통한 인스턴스 생성\n",
        "my_dog.bark()   # 인스턴스의 메서드 호출, 출력: \"Woof!\""
      ],
      "metadata": {
        "colab": {
          "base_uri": "https://localhost:8080/"
        },
        "id": "dzlPfZVrdzoO",
        "outputId": "6c46861f-b921-4e5c-a821-3928f4691c64"
      },
      "execution_count": 25,
      "outputs": [
        {
          "output_type": "stream",
          "name": "stdout",
          "text": [
            "Woof!\n"
          ]
        }
      ]
    },
    {
      "cell_type": "code",
      "source": [
        "a = 1\n",
        "print(callable(a))\n",
        "\n",
        "def funcA():\n",
        "    print(\"캬캬호출가능!\")\n",
        "\n",
        "a = funcA\n",
        "print(callable(a))"
      ],
      "metadata": {
        "colab": {
          "base_uri": "https://localhost:8080/"
        },
        "id": "8YLx1zbPcxjX",
        "outputId": "0e4c85a3-4042-42c5-9683-1a70de3c0fc7"
      },
      "execution_count": 22,
      "outputs": [
        {
          "output_type": "stream",
          "name": "stdout",
          "text": [
            "False\n",
            "True\n"
          ]
        }
      ]
    },
    {
      "cell_type": "markdown",
      "source": [
        "* iterator 는 next로 값을 꺼낼 수 있음\n",
        "* 반복을 끝낼 값을 지정하면 특정 값이 나올 때 반복 끝냄\n",
        "* 이 경우, 반복 가능한 객체 대신 호출 가능한 객체를 넣는다\n",
        "* 반복 끝낼 값(sentinel)은 감시자라고 부름\n",
        "    * iter(호출가능한객체, 반복끝낼값)"
      ],
      "metadata": {
        "id": "xBDnVhMRd9MJ"
      }
    },
    {
      "cell_type": "code",
      "source": [
        "import random\n",
        "it = iter(lambda: random.randint(0, 5), 2)"
      ],
      "metadata": {
        "id": "R0FwZhY-T3HT"
      },
      "execution_count": 2,
      "outputs": []
    },
    {
      "cell_type": "code",
      "source": [
        "for i in iter(lambda: random.randint(0, 5), 2):\n",
        "    print(i, end = ' ')"
      ],
      "metadata": {
        "colab": {
          "base_uri": "https://localhost:8080/"
        },
        "id": "D9GIg9jPUguk",
        "outputId": "34713840-917d-4496-c310-2cee94e253e5"
      },
      "execution_count": 4,
      "outputs": [
        {
          "output_type": "stream",
          "name": "stdout",
          "text": [
            "5 0 0 5 4 0 5 4 1 4 5 4 4 "
          ]
        }
      ]
    },
    {
      "cell_type": "code",
      "source": [
        "# while문으로 구현하기\n",
        "while True:\n",
        "    i = random.randint(0, 5)\n",
        "    if i == 2:\n",
        "        break\n",
        "    print(i, end=' ')"
      ],
      "metadata": {
        "colab": {
          "base_uri": "https://localhost:8080/"
        },
        "id": "WkX1B2pTUq2v",
        "outputId": "a76765cf-6bb5-4a0b-dbbf-71b610725b0e"
      },
      "execution_count": 5,
      "outputs": [
        {
          "output_type": "stream",
          "name": "stdout",
          "text": [
            "4 4 5 3 3 5 4 1 1 0 0 1 5 4 0 5 "
          ]
        }
      ]
    },
    {
      "cell_type": "code",
      "source": [
        "# iterator 구현\n",
        "class MyIterator:\n",
        "    def __init__(self, data):\n",
        "        self.data = data\n",
        "        self.position = 0\n",
        "\n",
        "    def __iter__(self):\n",
        "        return self\n",
        "\n",
        "    def __next__(self):\n",
        "        if self.position >= len(self.data):\n",
        "            raise StopIteration\n",
        "        result = self.data[self.position]\n",
        "        self.position += 1\n",
        "        return result"
      ],
      "metadata": {
        "id": "X7FfB4X0azSd"
      },
      "execution_count": 18,
      "outputs": []
    },
    {
      "cell_type": "code",
      "source": [
        "i = MyIterator([1,2,3])\n",
        "for item in i:\n",
        "    print(item)"
      ],
      "metadata": {
        "colab": {
          "base_uri": "https://localhost:8080/"
        },
        "id": "RmvXaWB5bTyQ",
        "outputId": "8bdd054e-23f2-48b4-fed6-8d6af3886faa"
      },
      "execution_count": 19,
      "outputs": [
        {
          "output_type": "stream",
          "name": "stdout",
          "text": [
            "1\n",
            "2\n",
            "3\n"
          ]
        }
      ]
    },
    {
      "cell_type": "code",
      "source": [
        "# 역순으로 출력하는 ReverseIterator\n",
        "class ReverseItertor:\n",
        "    def __init__(self, data):\n",
        "        self.data = data\n",
        "        self.position = len(self.data) -1\n",
        "\n",
        "    def __iter__(self):\n",
        "        return self\n",
        "\n",
        "    def __next__(self):\n",
        "        if self.position < 0:\n",
        "            raise StopIteration\n",
        "        result = self.data[self.position]\n",
        "        self.position -= 1\n",
        "        return result"
      ],
      "metadata": {
        "id": "E8M0A-pVbiVC"
      },
      "execution_count": 20,
      "outputs": []
    },
    {
      "cell_type": "code",
      "source": [
        "i = MyIterator([1,2,3])\n",
        "for item in i:\n",
        "    print(item)"
      ],
      "metadata": {
        "colab": {
          "base_uri": "https://localhost:8080/"
        },
        "id": "4HtkiZAMbp0b",
        "outputId": "892b04cf-905b-4de6-d331-406a7a122bfc"
      },
      "execution_count": 21,
      "outputs": [
        {
          "output_type": "stream",
          "name": "stdout",
          "text": [
            "1\n",
            "2\n",
            "3\n"
          ]
        }
      ]
    },
    {
      "cell_type": "markdown",
      "source": [
        "## next\n",
        "\n",
        "* 객체의 __ next __ 메서드 호출\n",
        "* 이터레이터에서 값을 차례대로 꺼냄\n",
        "* 기본값 지정 가능( 반복 끝나도 StopIteration 발생하지 않고 기본값 출력)\n"
      ],
      "metadata": {
        "id": "SyxFUSmdUqnB"
      }
    },
    {
      "cell_type": "code",
      "source": [
        "# range(3)으로 0,1,2 세 번 반복하는데 next 기본값 10 지정\n",
        "it = iter(range(3))\n",
        "print(next(it, 10))\n",
        "print(next(it, 10))\n",
        "print(next(it, 10))\n",
        "print(next(it, 10))\n",
        "print(next(it, 10))"
      ],
      "metadata": {
        "colab": {
          "base_uri": "https://localhost:8080/"
        },
        "id": "kZG6Y10AVOM2",
        "outputId": "b541af97-49e0-4755-9761-9b9f35122657"
      },
      "execution_count": 8,
      "outputs": [
        {
          "output_type": "stream",
          "name": "stdout",
          "text": [
            "0\n",
            "1\n",
            "2\n",
            "10\n",
            "10\n"
          ]
        }
      ]
    },
    {
      "cell_type": "code",
      "source": [],
      "metadata": {
        "id": "MNTiS0sDVWyv"
      },
      "execution_count": null,
      "outputs": []
    }
  ]
}